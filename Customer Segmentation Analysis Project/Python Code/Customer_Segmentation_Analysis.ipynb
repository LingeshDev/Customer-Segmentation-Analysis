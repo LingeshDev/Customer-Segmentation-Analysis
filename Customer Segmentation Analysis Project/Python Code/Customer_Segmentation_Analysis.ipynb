{
  "nbformat": 4,
  "nbformat_minor": 0,
  "metadata": {
    "colab": {
      "private_outputs": true,
      "provenance": []
    },
    "kernelspec": {
      "name": "python3",
      "display_name": "Python 3"
    },
    "language_info": {
      "name": "python"
    }
  },
  "cells": [
    {
      "cell_type": "code",
      "execution_count": null,
      "metadata": {
        "id": "Mf6fYY2eicMz"
      },
      "outputs": [],
      "source": [
        "#Importing the necessary libraries\n",
        "import numpy as np\n",
        "import pandas as pd\n",
        "import matplotlib.pyplot as plt\n",
        "import seaborn as sns\n",
        "from mpl_toolkits.mplot3d import Axes3D\n",
        "%matplotlib inline\n"
      ]
    },
    {
      "cell_type": "code",
      "source": [
        "data=pd.read_csv(\"Mall_Customers.csv\")\n"
      ],
      "metadata": {
        "id": "Ik-rZ8Hgicrp"
      },
      "execution_count": null,
      "outputs": []
    },
    {
      "cell_type": "markdown",
      "source": [],
      "metadata": {
        "id": "7b9-tFnZiwoo"
      }
    },
    {
      "cell_type": "code",
      "source": [
        "data.head()"
      ],
      "metadata": {
        "id": "Jvy3cmSPinKJ"
      },
      "execution_count": null,
      "outputs": []
    },
    {
      "cell_type": "code",
      "source": [
        "data.corr(numeric_only=True)\n"
      ],
      "metadata": {
        "id": "r_rIW21xi0Cz"
      },
      "execution_count": null,
      "outputs": []
    },
    {
      "cell_type": "code",
      "source": [
        "#Distribution of Annnual Income\n",
        "plt.figure(figsize=(10, 6))\n",
        "sns.set(style = 'whitegrid')\n",
        "sns.distplot(data['Annual Income (k$)'])\n",
        "plt.title('Distribution of Annual Income (k$)', fontsize = 20)\n",
        "plt.xlabel('Range of Annual Income (k$)')\n",
        "plt.ylabel('Count')"
      ],
      "metadata": {
        "id": "1sizMzl_i-Hh"
      },
      "execution_count": null,
      "outputs": []
    },
    {
      "cell_type": "code",
      "source": [
        "#Distribution of age\n",
        "plt.figure(figsize=(10, 6))\n",
        "sns.set(style = 'whitegrid')\n",
        "sns.distplot(data['Age'])\n",
        "plt.title('Distribution of Age', fontsize = 20)\n",
        "plt.xlabel('Range of Age')\n",
        "plt.ylabel('Count')"
      ],
      "metadata": {
        "id": "Pi-Ig6yOjFQP"
      },
      "execution_count": null,
      "outputs": []
    },
    {
      "cell_type": "code",
      "source": [
        "#Distribution of spending score\n",
        "plt.figure(figsize=(10, 6))\n",
        "sns.set(style = 'whitegrid')\n",
        "sns.distplot(data['Spending Score (1-100)'])\n",
        "plt.title('Distribution of Spending Score (1-100)', fontsize = 20)\n",
        "plt.xlabel('Range of Spending Score (1-100)')\n",
        "plt.ylabel('Count')"
      ],
      "metadata": {
        "id": "EAONk00WjGbQ"
      },
      "execution_count": null,
      "outputs": []
    },
    {
      "cell_type": "code",
      "source": [
        "genders = data.Gender.value_counts()\n",
        "sns.set_style(\"darkgrid\")\n",
        "plt.figure(figsize=(10,4))\n",
        "sns.barplot(x=genders.index, y=genders.values)\n",
        "plt.show()"
      ],
      "metadata": {
        "id": "L3v7afRTjNin"
      },
      "execution_count": null,
      "outputs": []
    },
    {
      "cell_type": "code",
      "source": [
        "df1=data[[\"CustomerID\",\"Gender\",\"Age\",\"Annual Income (k$)\",\"Spending Score (1-100)\"]]\n",
        "X=df1[[\"Annual Income (k$)\",\"Spending Score (1-100)\"]]"
      ],
      "metadata": {
        "id": "ID3A3J_YjO-i"
      },
      "execution_count": null,
      "outputs": []
    },
    {
      "cell_type": "code",
      "source": [
        "X.head()"
      ],
      "metadata": {
        "id": "AcH4fvJyjS3Y"
      },
      "execution_count": null,
      "outputs": []
    },
    {
      "cell_type": "code",
      "source": [
        "#Scatterplot of the input data\n",
        "plt.figure(figsize=(10,6))\n",
        "sns.scatterplot(x = 'Annual Income (k$)',y = 'Spending Score (1-100)',  data = X  ,s = 60 )\n",
        "plt.xlabel('Annual Income (k$)')\n",
        "plt.ylabel('Spending Score (1-100)')\n",
        "plt.title('Spending Score (1-100) vs Annual Income (k$)')\n",
        "plt.show()"
      ],
      "metadata": {
        "id": "4yC2lBrFjgTg"
      },
      "execution_count": null,
      "outputs": []
    },
    {
      "cell_type": "code",
      "source": [
        "#Importing KMeans from sklearn\n",
        "from sklearn.cluster import KMeans"
      ],
      "metadata": {
        "id": "YFP6Xx2UjhyR"
      },
      "execution_count": null,
      "outputs": []
    },
    {
      "cell_type": "code",
      "source": [
        "wcss=[]\n",
        "for i in range(1,11):\n",
        "    km=KMeans(n_clusters=i)\n",
        "    km.fit(X)\n",
        "    wcss.append(km.inertia_)"
      ],
      "metadata": {
        "id": "tkVJNkbcjnsU"
      },
      "execution_count": null,
      "outputs": []
    },
    {
      "cell_type": "code",
      "source": [
        "#The elbow curve\n",
        "plt.figure(figsize=(12,6))\n",
        "plt.plot(range(1,11),wcss)\n",
        "plt.plot(range(1,11),wcss, linewidth=2, color=\"red\", marker =\"8\")\n",
        "plt.xlabel(\"K Value\")\n",
        "plt.xticks(np.arange(1,11,1))\n",
        "plt.ylabel(\"WCSS\")\n",
        "plt.show()"
      ],
      "metadata": {
        "id": "x_UWJKL9jrYj"
      },
      "execution_count": null,
      "outputs": []
    },
    {
      "cell_type": "code",
      "source": [
        "#Taking 5 clusters\n",
        "km1=KMeans(n_clusters=5)\n",
        "#Fitting the input data\n",
        "km1.fit(X)\n",
        "#predicting the labels of the input data\n",
        "y=km1.predict(X)\n",
        "#adding the labels to a column named label\n",
        "df1[\"label\"] = y\n",
        "#The new dataframe with the clustering done\n",
        "df1.head()"
      ],
      "metadata": {
        "id": "AsnO0lNQj0BZ"
      },
      "execution_count": null,
      "outputs": []
    },
    {
      "cell_type": "code",
      "source": [
        "#Scatterplot of the clusters\n",
        "plt.figure(figsize=(10,6))\n",
        "sns.scatterplot(x = 'Annual Income (k$)',y = 'Spending Score (1-100)',hue=\"label\",\n",
        "                 palette=['green','orange','brown','dodgerblue','red'], legend='full',data = df1  ,s = 60 )\n",
        "plt.xlabel('Annual Income (k$)')\n",
        "plt.ylabel('Spending Score (1-100)')\n",
        "plt.title('Spending Score (1-100) vs Annual Income (k$)')\n",
        "plt.show()"
      ],
      "metadata": {
        "id": "xMETh-_Bj1Iu"
      },
      "execution_count": null,
      "outputs": []
    },
    {
      "cell_type": "code",
      "source": [
        "#Taking the features\n",
        "X2=df1[[\"Age\",\"Annual Income (k$)\",\"Spending Score (1-100)\"]]\n",
        "#Now we calculate the Within Cluster Sum of Squared Errors (WSS) for different values of k.\n",
        "wcss = []\n",
        "for k in range(1,11):\n",
        "    kmeans = KMeans(n_clusters=k, init=\"k-means++\")\n",
        "    kmeans.fit(X2)\n",
        "    wcss.append(kmeans.inertia_)\n",
        "plt.figure(figsize=(12,6))\n",
        "plt.plot(range(1,11),wcss, linewidth=2, color=\"red\", marker =\"8\")\n",
        "plt.xlabel(\"K Value\")\n",
        "plt.xticks(np.arange(1,11,1))\n",
        "plt.ylabel(\"WCSS\")\n",
        "plt.show()"
      ],
      "metadata": {
        "id": "QG_LVzmqj9ly"
      },
      "execution_count": null,
      "outputs": []
    },
    {
      "cell_type": "code",
      "source": [
        "#We choose the k for which WSS starts to diminish\n",
        "km2 = KMeans(n_clusters=5)\n",
        "y2 = km.fit_predict(X2)\n",
        "df1[\"label\"] = y2\n",
        "#The data with labels\n",
        "df1.head()"
      ],
      "metadata": {
        "id": "34aOTrFlj_B9"
      },
      "execution_count": null,
      "outputs": []
    },
    {
      "cell_type": "code",
      "source": [
        "#3D Plot as we did the clustering on the basis of 3 input features\n",
        "fig = plt.figure(figsize=(20,10))\n",
        "ax = fig.add_subplot(111, projection='3d')\n",
        "ax.scatter(df1.Age[df1.label == 0], df1[\"Annual Income (k$)\"][df1.label == 0], df1[\"Spending Score (1-100)\"][df1.label == 0], c='purple', s=60)\n",
        "ax.scatter(df1.Age[df1.label == 1], df1[\"Annual Income (k$)\"][df1.label == 1], df1[\"Spending Score (1-100)\"][df1.label == 1], c='red', s=60)\n",
        "ax.scatter(df1.Age[df1.label == 2], df1[\"Annual Income (k$)\"][df1.label == 2], df1[\"Spending Score (1-100)\"][df1.label == 2], c='blue', s=60)\n",
        "ax.scatter(df1.Age[df1.label == 3], df1[\"Annual Income (k$)\"][df1.label == 3], df1[\"Spending Score (1-100)\"][df1.label == 3], c='green', s=60)\n",
        "ax.scatter(df1.Age[df1.label == 4], df1[\"Annual Income (k$)\"][df1.label == 4], df1[\"Spending Score (1-100)\"][df1.label == 4], c='yellow', s=60)\n",
        "ax.view_init(35, 185)\n",
        "plt.xlabel(\"Age\")\n",
        "plt.ylabel(\"Annual Income (k$)\")\n",
        "ax.set_zlabel('Spending Score (1-100)')\n",
        "plt.show()"
      ],
      "metadata": {
        "collapsed": true,
        "id": "62VVQDpYkFQZ"
      },
      "execution_count": null,
      "outputs": []
    },
    {
      "cell_type": "code",
      "source": [
        "cust1=df1[df1[\"label\"]==1]\n",
        "print('Number of customer in 1st group=', len(cust1))\n",
        "print('They are -', cust1[\"CustomerID\"].values)\n",
        "print(\"--------------------------------------------\")\n",
        "cust2=df1[df1[\"label\"]==2]\n",
        "print('Number of customer in 2nd group=', len(cust2))\n",
        "print('They are -', cust2[\"CustomerID\"].values)\n",
        "print(\"--------------------------------------------\")\n",
        "cust3=df1[df1[\"label\"]==0]\n",
        "print('Number of customer in 3rd group=', len(cust3))\n",
        "print('They are -', cust3[\"CustomerID\"].values)\n",
        "print(\"--------------------------------------------\")\n",
        "cust4=df1[df1[\"label\"]==3]\n",
        "print('Number of customer in 4th group=', len(cust4))\n",
        "print('They are -', cust4[\"CustomerID\"].values)\n",
        "print(\"--------------------------------------------\")\n",
        "cust5=df1[df1[\"label\"]==4]\n",
        "print('Number of customer in 5th group=', len(cust5))\n",
        "print('They are -', cust5[\"CustomerID\"].values)\n",
        "print(\"--------------------------------------------\")"
      ],
      "metadata": {
        "id": "uJZw7kLfkFh2"
      },
      "execution_count": null,
      "outputs": []
    },
    {
      "cell_type": "code",
      "source": [
        "from google.colab import files\n",
        "files.download('Mall_Customers_Clustered.csv')\n"
      ],
      "metadata": {
        "id": "jDzAY-yem5Cu"
      },
      "execution_count": null,
      "outputs": []
    }
  ]
}